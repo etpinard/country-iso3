{
 "cells": [
  {
   "cell_type": "markdown",
   "metadata": {},
   "source": [
    "# Make script for json out files\n",
    "<br>"
   ]
  },
  {
   "cell_type": "code",
   "execution_count": 1,
   "metadata": {
    "collapsed": true
   },
   "outputs": [],
   "source": [
    "import pandas as pd\n",
    "import json"
   ]
  },
  {
   "cell_type": "markdown",
   "metadata": {},
   "source": [
    "### Get csv from countrycode repo"
   ]
  },
  {
   "cell_type": "code",
   "execution_count": 2,
   "metadata": {
    "collapsed": false
   },
   "outputs": [
    {
     "data": {
      "text/html": [
       "<div style=\"max-height:1000px;max-width:1500px;overflow:auto;\">\n",
       "<table border=\"1\" class=\"dataframe\">\n",
       "  <thead>\n",
       "    <tr style=\"text-align: right;\">\n",
       "      <th></th>\n",
       "      <th>country_name</th>\n",
       "      <th>cowc</th>\n",
       "      <th>cown</th>\n",
       "      <th>fao</th>\n",
       "      <th>fips104</th>\n",
       "      <th>imf</th>\n",
       "      <th>ioc</th>\n",
       "      <th>iso2c</th>\n",
       "      <th>iso3c</th>\n",
       "      <th>iso3n</th>\n",
       "      <th>un</th>\n",
       "      <th>wb</th>\n",
       "      <th>regex</th>\n",
       "      <th>continent</th>\n",
       "      <th>region</th>\n",
       "    </tr>\n",
       "  </thead>\n",
       "  <tbody>\n",
       "    <tr>\n",
       "      <th>0</th>\n",
       "      <td>    Afghanistan</td>\n",
       "      <td> AFG</td>\n",
       "      <td> 700</td>\n",
       "      <td>  2</td>\n",
       "      <td>  AF</td>\n",
       "      <td> 512</td>\n",
       "      <td> AFG</td>\n",
       "      <td> AF</td>\n",
       "      <td> AFG</td>\n",
       "      <td>   4</td>\n",
       "      <td>   4</td>\n",
       "      <td> AFG</td>\n",
       "      <td>               afghan</td>\n",
       "      <td>    Asia</td>\n",
       "      <td>   Southern Asia</td>\n",
       "    </tr>\n",
       "    <tr>\n",
       "      <th>1</th>\n",
       "      <td>  Aland Islands</td>\n",
       "      <td> NaN</td>\n",
       "      <td> NaN</td>\n",
       "      <td>NaN</td>\n",
       "      <td> NaN</td>\n",
       "      <td> NaN</td>\n",
       "      <td> NaN</td>\n",
       "      <td> AX</td>\n",
       "      <td> ALA</td>\n",
       "      <td> 248</td>\n",
       "      <td> 248</td>\n",
       "      <td> ALA</td>\n",
       "      <td>          \\b(a|å)land</td>\n",
       "      <td>  Europe</td>\n",
       "      <td> Northern Europe</td>\n",
       "    </tr>\n",
       "    <tr>\n",
       "      <th>2</th>\n",
       "      <td>        Albania</td>\n",
       "      <td> ALB</td>\n",
       "      <td> 339</td>\n",
       "      <td>  3</td>\n",
       "      <td>  AL</td>\n",
       "      <td> 914</td>\n",
       "      <td> ALB</td>\n",
       "      <td> AL</td>\n",
       "      <td> ALB</td>\n",
       "      <td>   8</td>\n",
       "      <td>   8</td>\n",
       "      <td> ALB</td>\n",
       "      <td>              albania</td>\n",
       "      <td>  Europe</td>\n",
       "      <td> Southern Europe</td>\n",
       "    </tr>\n",
       "    <tr>\n",
       "      <th>3</th>\n",
       "      <td>        Algeria</td>\n",
       "      <td> ALG</td>\n",
       "      <td> 615</td>\n",
       "      <td>  4</td>\n",
       "      <td>  AG</td>\n",
       "      <td> 612</td>\n",
       "      <td> ALG</td>\n",
       "      <td> DZ</td>\n",
       "      <td> DZA</td>\n",
       "      <td>  12</td>\n",
       "      <td>  12</td>\n",
       "      <td> DZA</td>\n",
       "      <td>              algeria</td>\n",
       "      <td>  Africa</td>\n",
       "      <td> Northern Africa</td>\n",
       "    </tr>\n",
       "    <tr>\n",
       "      <th>4</th>\n",
       "      <td> American Samoa</td>\n",
       "      <td> NaN</td>\n",
       "      <td> NaN</td>\n",
       "      <td>NaN</td>\n",
       "      <td>  AQ</td>\n",
       "      <td> 859</td>\n",
       "      <td> ASA</td>\n",
       "      <td> AS</td>\n",
       "      <td> ASM</td>\n",
       "      <td>  16</td>\n",
       "      <td>  16</td>\n",
       "      <td> ASM</td>\n",
       "      <td> ^(?=.*americ).*samoa</td>\n",
       "      <td> Oceania</td>\n",
       "      <td>       Polynesia</td>\n",
       "    </tr>\n",
       "  </tbody>\n",
       "</table>\n",
       "<p>5 rows × 15 columns</p>\n",
       "</div>"
      ],
      "text/plain": [
       "     country_name cowc  cown  fao fips104  imf  ioc iso2c iso3c  iso3n   un  \\\n",
       "0     Afghanistan  AFG   700    2      AF  512  AFG    AF   AFG      4    4   \n",
       "1   Aland Islands  NaN   NaN  NaN     NaN  NaN  NaN    AX   ALA    248  248   \n",
       "2         Albania  ALB   339    3      AL  914  ALB    AL   ALB      8    8   \n",
       "3         Algeria  ALG   615    4      AG  612  ALG    DZ   DZA     12   12   \n",
       "4  American Samoa  NaN   NaN  NaN      AQ  859  ASA    AS   ASM     16   16   \n",
       "\n",
       "    wb                 regex continent           region  \n",
       "0  AFG                afghan      Asia    Southern Asia  \n",
       "1  ALA           \\b(a|å)land    Europe  Northern Europe  \n",
       "2  ALB               albania    Europe  Southern Europe  \n",
       "3  DZA               algeria    Africa  Northern Africa  \n",
       "4  ASM  ^(?=.*americ).*samoa   Oceania        Polynesia  \n",
       "\n",
       "[5 rows x 15 columns]"
      ]
     },
     "execution_count": 2,
     "metadata": {},
     "output_type": "execute_result"
    }
   ],
   "source": [
    "df = pd.read_csv('https://raw.githubusercontent.com/vincentarelbundock/countrycode/master/data/countrycode_data.csv')\n",
    "\n",
    "df.head()"
   ]
  },
  {
   "cell_type": "code",
   "execution_count": 3,
   "metadata": {
    "collapsed": false
   },
   "outputs": [],
   "source": [
    "df = df.dropna(subset=['iso3c'])"
   ]
  },
  {
   "cell_type": "markdown",
   "metadata": {},
   "source": [
    "### Output array of regex strings, iso3 objects"
   ]
  },
  {
   "cell_type": "code",
   "execution_count": 4,
   "metadata": {
    "collapsed": false
   },
   "outputs": [],
   "source": [
    "outfile = 'get-iso3.json'\n",
    "out = []\n",
    "\n",
    "for iso3, regex in zip(df['iso3c'], df['regex']):\n",
    "    out.append(dict(iso3=iso3, regex=regex))\n",
    "    \n",
    "with open(outfile, 'w') as f:\n",
    "    json.dump(out, f, separators=(',',':'))"
   ]
  },
  {
   "cell_type": "markdown",
   "metadata": {},
   "source": [
    "### Output iso3 to regex strings hash object"
   ]
  },
  {
   "cell_type": "code",
   "execution_count": 5,
   "metadata": {
    "collapsed": true
   },
   "outputs": [],
   "source": [
    "outfile = 'country-name_to_iso3.json'\n",
    "out = dict()\n",
    "\n",
    "for iso3, regex in zip(df['iso3c'], df['regex']):\n",
    "    out[iso3] = regex\n",
    "    \n",
    "with open(outfile, 'w') as f:\n",
    "    json.dump(out, f, separators=(',',':'))"
   ]
  },
  {
   "cell_type": "markdown",
   "metadata": {
    "collapsed": false
   },
   "source": [
    "### Output iso3 to country name hash object"
   ]
  },
  {
   "cell_type": "code",
   "execution_count": 6,
   "metadata": {
    "collapsed": true
   },
   "outputs": [],
   "source": [
    "outfile = 'iso3-to-name.json'\n",
    "out = dict()\n",
    "\n",
    "for iso3, country_name in zip(df['iso3c'], df['country_name']):\n",
    "    out[iso3] = country_name\n",
    "    \n",
    "with open(outfile, 'w') as f:\n",
    "    json.dump(out, f, separators=(',',':'))"
   ]
  }
 ],
 "metadata": {
  "kernelspec": {
   "display_name": "Python 2",
   "language": "python",
   "name": "python2"
  },
  "language_info": {
   "codemirror_mode": {
    "name": "ipython",
    "version": 2
   },
   "file_extension": ".py",
   "mimetype": "text/x-python",
   "name": "python",
   "nbconvert_exporter": "python",
   "pygments_lexer": "ipython2",
   "version": "2.7.6"
  }
 },
 "nbformat": 4,
 "nbformat_minor": 0
}
